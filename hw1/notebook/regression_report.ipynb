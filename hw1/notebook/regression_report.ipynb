{
 "cells": [
  {
   "cell_type": "markdown",
   "metadata": {
    "colab_type": "text",
    "id": "p9FfatPz6MU3"
   },
   "source": [
    "# **Homework 1: Linear Regression**"
   ]
  },
  {
   "cell_type": "markdown",
   "metadata": {
    "colab_type": "text",
    "id": "U7RiAkkjCc6l"
   },
   "source": [
    "# **Load 'train.csv'**\n",
    "train.csv 的資料為 12 個月中，每個月取 20 天，每天 24 小時的資料(每小時資料有 18 個 features)。"
   ]
  },
  {
   "cell_type": "code",
   "execution_count": 1,
   "metadata": {
    "colab": {
     "base_uri": "https://localhost:8080/",
     "height": 136
    },
    "colab_type": "code",
    "id": "1AfNX-hB3kN8",
    "outputId": "6b9d36ea-d38a-4d74-8abe-61c32a038606"
   },
   "outputs": [],
   "source": [
    "import sys\n",
    "import pandas as pd\n",
    "import numpy as np\n",
    "data = pd.read_csv('./../data/train.csv', encoding = 'big5')"
   ]
  },
  {
   "cell_type": "markdown",
   "metadata": {
    "colab_type": "text",
    "id": "gqUdj00pDTpo"
   },
   "source": [
    "# **Preprocessing** \n",
    "取需要的數值部分，將 'RAINFALL' 欄位全部補 0。\n",
    "另外，如果要在 colab 重覆這段程式碼的執行，請從頭開始執行(把上面的都重新跑一次)，以避免跑出不是自己要的結果（若自己寫程式不會遇到，但 colab 重複跑這段會一直往下取資料。意即第一次取原本資料的第三欄之後的資料，第二次取第一次取的資料掉三欄之後的資料，...）。"
   ]
  },
  {
   "cell_type": "code",
   "execution_count": 2,
   "metadata": {
    "colab": {},
    "colab_type": "code",
    "id": "AIGP7XUYD_Yb"
   },
   "outputs": [],
   "source": [
    "data = data.iloc[:, 3:]\n",
    "data[data == 'NR'] = 0\n",
    "raw_data = data.to_numpy()"
   ]
  },
  {
   "cell_type": "markdown",
   "metadata": {
    "colab_type": "text",
    "id": "V7PCrVwX6jBF"
   },
   "source": [
    "# **Extract Features (1)**\n",
    "![圖片說明](https://drive.google.com/uc?id=1LyaqD4ojX07oe5oDzPO99l9ts5NRyArH)\n",
    "![圖片說明](https://drive.google.com/uc?id=1ZroBarcnlsr85gibeqEF-MtY13xJTG47)\n",
    "\n",
    "將原始 4320 * 18 的資料依照每個月分重組成 12 個 18 (features) * 480 (hours) 的資料。 "
   ]
  },
  {
   "cell_type": "code",
   "execution_count": 3,
   "metadata": {
    "colab": {},
    "colab_type": "code",
    "id": "HBnrGYXu9dZQ"
   },
   "outputs": [],
   "source": [
    "month_data = {}\n",
    "for month in range(12):\n",
    "    sample = np.empty([18, 480])\n",
    "    for day in range(20):\n",
    "        sample[:, day * 24 : (day + 1) * 24] = raw_data[18 * (20 * month + day) : 18 * (20 * month + day + 1), :]\n",
    "    month_data[month] = sample"
   ]
  },
  {
   "cell_type": "markdown",
   "metadata": {
    "colab_type": "text",
    "id": "WhVmtFEQ9D6t"
   },
   "source": [
    "# **Extract Features (2)**\n",
    "![alt text](https://drive.google.com/uc?id=1wKoPuaRHoX682LMiBgIoOP4PDyNKsJLK)\n",
    "![alt text](https://drive.google.com/uc?id=1FRWWiXQ-Qh0i9tyx0LiugHYF_xDdkhLN)\n",
    "\n",
    "每個月會有 480hrs，每 9 小時形成一個 data，每個月會有 471 個 data，故總資料數為 471 * 12 筆，而每筆 data 有 9 * 18 的 features (一小時 18 個 features * 9 小時)。\n",
    "\n",
    "對應的 target 則有 471 * 12 個(第 10 個小時的 PM2.5)"
   ]
  },
  {
   "cell_type": "code",
   "execution_count": 4,
   "metadata": {
    "colab": {
     "base_uri": "https://localhost:8080/",
     "height": 255
    },
    "colab_type": "code",
    "id": "dcOrC4Fi-n3i",
    "outputId": "83541460-d78d-4214-f057-9c37c84593ff"
   },
   "outputs": [],
   "source": [
    "x = np.empty([12 * 471, 18 * 9], dtype = float)\n",
    "y = np.empty([12 * 471, 1], dtype = float)\n",
    "for month in range(12):\n",
    "    for day in range(20):\n",
    "        for hour in range(24):\n",
    "            if day == 19 and hour > 14:\n",
    "                continue\n",
    "            x[month * 471 + day * 24 + hour, :] = month_data[month][:,day * 24 + hour : day * 24 + hour + 9].reshape(1, -1) #vector dim:18*9 (9 9 9 9 9 9 9 9 9 9 9 9 9 9 9 9 9 9)\n",
    "            y[month * 471 + day * 24 + hour, 0] = month_data[month][9, day * 24 + hour + 9] #value"
   ]
  },
  {
   "cell_type": "markdown",
   "metadata": {
    "colab_type": "text",
    "id": "1wOii0TX8IwE"
   },
   "source": [
    "# **Normalize (1)**\n"
   ]
  },
  {
   "cell_type": "code",
   "execution_count": 5,
   "metadata": {
    "colab": {
     "base_uri": "https://localhost:8080/",
     "height": 238
    },
    "colab_type": "code",
    "id": "ceMqFoNI8ftQ",
    "outputId": "99744546-62e0-4b92-db55-e570939eb2b2"
   },
   "outputs": [],
   "source": [
    "mean_x = np.mean(x, axis = 0) #18 * 9 \n",
    "std_x = np.std(x, axis = 0) #18 * 9 \n",
    "for i in range(len(x)): #12 * 471\n",
    "    for j in range(len(x[0])): #18 * 9 \n",
    "        if std_x[j] != 0:\n",
    "            x[i][j] = (x[i][j] - mean_x[j]) / std_x[j]"
   ]
  },
  {
   "cell_type": "markdown",
   "metadata": {
    "colab_type": "text",
    "id": "NzvXP5Jya64j"
   },
   "source": [
    "#**Split Training Data Into \"train_set\" and \"validation_set\"**\n",
    "這部分是針對作業中 report 的第二題、第三題做的簡單示範，以生成比較中用來訓練的 train_set 和不會被放入訓練、只是用來驗證的 validation_set。"
   ]
  },
  {
   "cell_type": "code",
   "execution_count": 6,
   "metadata": {
    "colab": {
     "base_uri": "https://localhost:8080/",
     "height": 765
    },
    "colab_type": "code",
    "id": "feF4XXOQb5SC",
    "outputId": "6fb8314b-7228-4c67-af30-c8496b27f184"
   },
   "outputs": [],
   "source": [
    "import math\n",
    "x_train_set = x[: math.floor(len(x) * 0.8), :]\n",
    "y_train_set = y[: math.floor(len(y) * 0.8), :]\n",
    "x_validation = x[math.floor(len(x) * 0.8): , :]\n",
    "y_validation = y[math.floor(len(y) * 0.8): , :]"
   ]
  },
  {
   "cell_type": "markdown",
   "metadata": {
    "colab_type": "text",
    "id": "Q-qAu0KR_ZRR"
   },
   "source": [
    "# **Training**\n",
    "![alt text](https://drive.google.com/uc?id=1xIXvqZ4EGgmxrp7c9r0LOVbcvd4d9H4N)\n",
    "![alt text](https://drive.google.com/uc?id=1S42g06ON5oJlV2f9RukxawjbE4NpsaB6)\n",
    "![alt text](https://drive.google.com/uc?id=1BbXu-oPB9EZBHDQ12YCkYqtyAIil3bGj)\n",
    "\n",
    "(和上圖不同處: 下面的 code 採用 Root Mean Square Error)\n",
    "\n",
    "因為常數項的存在，所以 dimension (dim) 需要多加一欄；eps 項是避免 adagrad 的分母為 0 而加的極小數值。\n",
    "\n",
    "每一個 dimension (dim) 會對應到各自的 gradient, weight (w)，透過一次次的 iteration (iter_time) 學習。"
   ]
  },
  {
   "cell_type": "code",
   "execution_count": 7,
   "metadata": {
    "colab": {
     "base_uri": "https://localhost:8080/",
     "height": 1000
    },
    "colab_type": "code",
    "id": "cCzDfxBFBFqp",
    "outputId": "2e2eef7e-a49a-48bd-db5e-36e554c20105",
    "scrolled": true
   },
   "outputs": [
    {
     "name": "stdout",
     "output_type": "stream",
     "text": [
      "0:27.071214829194115\n",
      "100:33.78905859777455\n",
      "200:19.913751298197102\n",
      "300:13.531068193689693\n",
      "400:10.64546615844617\n",
      "500:9.277353455475062\n",
      "600:8.518042045956497\n",
      "700:8.014061987588418\n",
      "800:7.636756824775688\n",
      "900:7.336563740371121\n"
     ]
    }
   ],
   "source": [
    "dim = 18 * 9 + 1\n",
    "w = np.zeros([dim, 1])\n",
    "x = np.concatenate((np.ones([12 * 471, 1]), x), axis = 1).astype(float)\n",
    "learning_rate = 100\n",
    "iter_time = 1000\n",
    "adagrad = np.zeros([dim, 1])\n",
    "eps = 0.0000000001\n",
    "for t in range(iter_time):\n",
    "    loss = np.sqrt(np.sum(np.power(np.dot(x, w) - y, 2))/471/12)#rmse\n",
    "    if(t%100==0):\n",
    "        print(str(t) + \":\" + str(loss))\n",
    "    gradient = 2 * np.dot(x.transpose(), np.dot(x, w) - y) #dim*1\n",
    "    adagrad += gradient ** 2\n",
    "    w = w - learning_rate * gradient / np.sqrt(adagrad + eps)"
   ]
  },
  {
   "cell_type": "markdown",
   "metadata": {
    "colab_type": "text",
    "id": "ZqNdWKsYBK28"
   },
   "source": [
    "# **Testing**\n",
    "![alt text](https://drive.google.com/uc?id=1165ETzZyE6HStqKvgR0gKrJwgFLK6-CW)\n",
    "\n",
    "載入 test data，並且以相似於訓練資料預先處理和特徵萃取的方式處理，使 test data 形成 240 個維度為 18 * 9 + 1 的資料。"
   ]
  },
  {
   "cell_type": "code",
   "execution_count": 8,
   "metadata": {
    "colab": {
     "base_uri": "https://localhost:8080/",
     "height": 425
    },
    "colab_type": "code",
    "id": "AALygqJFCWOA",
    "outputId": "1a840905-645a-400e-c92b-d97fce8a3fad"
   },
   "outputs": [
    {
     "name": "stderr",
     "output_type": "stream",
     "text": [
      "/usr/local/anaconda3/lib/python3.7/site-packages/ipykernel_launcher.py:3: SettingWithCopyWarning: \n",
      "A value is trying to be set on a copy of a slice from a DataFrame.\n",
      "Try using .loc[row_indexer,col_indexer] = value instead\n",
      "\n",
      "See the caveats in the documentation: http://pandas.pydata.org/pandas-docs/stable/indexing.html#indexing-view-versus-copy\n",
      "  This is separate from the ipykernel package so we can avoid doing imports until\n",
      "/usr/local/anaconda3/lib/python3.7/site-packages/pandas/core/frame.py:3414: SettingWithCopyWarning: \n",
      "A value is trying to be set on a copy of a slice from a DataFrame\n",
      "\n",
      "See the caveats in the documentation: http://pandas.pydata.org/pandas-docs/stable/indexing.html#indexing-view-versus-copy\n",
      "  self._where(-key, value, inplace=True)\n"
     ]
    }
   ],
   "source": [
    "testdata = pd.read_csv('./../data/test.csv', header = None, encoding = 'big5')\n",
    "test_data = testdata.iloc[:, 2:]\n",
    "test_data[test_data == 'NR'] = 0\n",
    "test_data = test_data.to_numpy()\n",
    "test_x = np.empty([240, 18*9], dtype = float)\n",
    "for i in range(240):\n",
    "    test_x[i, :] = test_data[18 * i: 18* (i + 1), :].reshape(1, -1)\n",
    "for i in range(len(test_x)):\n",
    "    for j in range(len(test_x[0])):\n",
    "        if std_x[j] != 0:\n",
    "            test_x[i][j] = (test_x[i][j] - mean_x[j]) / std_x[j]\n",
    "test_x = np.concatenate((np.ones([240, 1]), test_x), axis = 1).astype(float)"
   ]
  },
  {
   "cell_type": "markdown",
   "metadata": {
    "colab_type": "text",
    "id": "dJQks9JEHR6W"
   },
   "source": [
    "# **Prediction**\n",
    "說明圖同上\n",
    "\n",
    "![alt text](https://drive.google.com/uc?id=1165ETzZyE6HStqKvgR0gKrJwgFLK6-CW)\n",
    "\n",
    "有了 weight 和測試資料即可預測 target。"
   ]
  },
  {
   "cell_type": "code",
   "execution_count": 9,
   "metadata": {
    "colab": {
     "base_uri": "https://localhost:8080/",
     "height": 1000
    },
    "colab_type": "code",
    "id": "jNyB229jHsEQ",
    "outputId": "b2ef6cbb-e040-4b03-9c0f-25eb91665cd1",
    "scrolled": true
   },
   "outputs": [
    {
     "data": {
      "text/plain": [
       "array([[ 5.17496040e+00],\n",
       "       [ 1.83062143e+01],\n",
       "       [ 2.04912181e+01],\n",
       "       [ 1.15239429e+01],\n",
       "       [ 2.66160568e+01],\n",
       "       [ 2.05313481e+01],\n",
       "       [ 2.19065510e+01],\n",
       "       [ 3.17364687e+01],\n",
       "       [ 1.33916741e+01],\n",
       "       [ 6.44564665e+01],\n",
       "       [ 2.02645688e+01],\n",
       "       [ 1.53585761e+01],\n",
       "       [ 6.85894728e+01],\n",
       "       [ 4.84281137e+01],\n",
       "       [ 1.87023338e+01],\n",
       "       [ 1.01885957e+01],\n",
       "       [ 3.07403629e+01],\n",
       "       [ 7.11322178e+01],\n",
       "       [-4.13051739e+00],\n",
       "       [ 1.82356940e+01],\n",
       "       [ 3.85789223e+01],\n",
       "       [ 7.13115197e+01],\n",
       "       [ 7.41034816e+00],\n",
       "       [ 1.87179553e+01],\n",
       "       [ 1.49372503e+01],\n",
       "       [ 3.67197367e+01],\n",
       "       [ 1.79616970e+01],\n",
       "       [ 7.57894629e+01],\n",
       "       [ 1.23093102e+01],\n",
       "       [ 5.62953517e+01],\n",
       "       [ 2.51131609e+01],\n",
       "       [ 4.61024867e+00],\n",
       "       [ 2.48377055e+00],\n",
       "       [ 2.47594223e+01],\n",
       "       [ 3.04802805e+01],\n",
       "       [ 3.84639307e+01],\n",
       "       [ 4.42023106e+01],\n",
       "       [ 3.00868360e+01],\n",
       "       [ 4.04736750e+01],\n",
       "       [ 2.92264799e+01],\n",
       "       [ 5.60645605e+00],\n",
       "       [ 3.86660161e+01],\n",
       "       [ 3.46102134e+01],\n",
       "       [ 4.83896975e+01],\n",
       "       [ 1.47572477e+01],\n",
       "       [ 3.44668201e+01],\n",
       "       [ 2.74831069e+01],\n",
       "       [ 1.20008794e+01],\n",
       "       [ 2.13780362e+01],\n",
       "       [ 2.85444031e+01],\n",
       "       [ 2.01655138e+01],\n",
       "       [ 1.07966781e+01],\n",
       "       [ 2.21710358e+01],\n",
       "       [ 5.34462631e+01],\n",
       "       [ 1.22195811e+01],\n",
       "       [ 4.33009685e+01],\n",
       "       [ 3.21823351e+01],\n",
       "       [ 2.25672175e+01],\n",
       "       [ 5.67395142e+01],\n",
       "       [ 2.07450529e+01],\n",
       "       [ 1.50288546e+01],\n",
       "       [ 3.98553016e+01],\n",
       "       [ 1.29753407e+01],\n",
       "       [ 5.17416596e+01],\n",
       "       [ 1.87833696e+01],\n",
       "       [ 1.23487528e+01],\n",
       "       [ 1.56336237e+01],\n",
       "       [-5.88714707e-02],\n",
       "       [ 4.15080111e+01],\n",
       "       [ 3.15487475e+01],\n",
       "       [ 1.86042512e+01],\n",
       "       [ 3.74768197e+01],\n",
       "       [ 5.65203907e+01],\n",
       "       [ 6.58787719e+00],\n",
       "       [ 1.22293397e+01],\n",
       "       [ 5.20369640e+00],\n",
       "       [ 4.79273751e+01],\n",
       "       [ 1.30207057e+01],\n",
       "       [ 1.71103017e+01],\n",
       "       [ 2.06032345e+01],\n",
       "       [ 2.12844816e+01],\n",
       "       [ 3.86929353e+01],\n",
       "       [ 3.00207167e+01],\n",
       "       [ 8.87674067e+01],\n",
       "       [ 3.59847002e+01],\n",
       "       [ 2.67569136e+01],\n",
       "       [ 2.39635168e+01],\n",
       "       [ 3.27472428e+01],\n",
       "       [ 2.21890438e+01],\n",
       "       [ 2.09921589e+01],\n",
       "       [ 2.95559943e+01],\n",
       "       [ 4.09921689e+01],\n",
       "       [ 8.62511781e+00],\n",
       "       [ 3.23214718e+01],\n",
       "       [ 4.65980444e+01],\n",
       "       [ 2.28840708e+01],\n",
       "       [ 3.15181297e+01],\n",
       "       [ 1.11982335e+01],\n",
       "       [ 2.85274366e+01],\n",
       "       [ 2.91150680e-01],\n",
       "       [ 1.79669611e+01],\n",
       "       [ 2.71241639e+01],\n",
       "       [ 1.13982328e+01],\n",
       "       [ 1.64264269e+01],\n",
       "       [ 2.34252610e+01],\n",
       "       [ 4.06160827e+01],\n",
       "       [ 2.58641250e+01],\n",
       "       [ 5.42273695e+00],\n",
       "       [ 1.07949211e+01],\n",
       "       [ 7.28621369e+01],\n",
       "       [ 4.80228371e+01],\n",
       "       [ 1.57468083e+01],\n",
       "       [ 2.46704106e+01],\n",
       "       [ 1.28277933e+01],\n",
       "       [ 1.01580576e+01],\n",
       "       [ 2.72692233e+01],\n",
       "       [ 2.92087386e+01],\n",
       "       [ 8.83533962e+00],\n",
       "       [ 2.00510881e+01],\n",
       "       [ 2.02123337e+01],\n",
       "       [ 7.99060093e+01],\n",
       "       [ 1.80616143e+01],\n",
       "       [ 3.05428093e+01],\n",
       "       [ 2.59807924e+01],\n",
       "       [ 5.21257727e+00],\n",
       "       [ 3.03556973e+01],\n",
       "       [ 7.76832289e+00],\n",
       "       [ 1.53282683e+01],\n",
       "       [ 2.26663657e+01],\n",
       "       [ 6.27420542e+01],\n",
       "       [ 1.89507804e+01],\n",
       "       [ 1.90763556e+01],\n",
       "       [ 6.13715741e+01],\n",
       "       [ 1.58845621e+01],\n",
       "       [ 1.34094181e+01],\n",
       "       [ 8.48772484e-01],\n",
       "       [ 7.83499672e+00],\n",
       "       [ 5.70128290e+01],\n",
       "       [ 2.56079968e+01],\n",
       "       [ 4.96170473e+00],\n",
       "       [ 3.64148790e+01],\n",
       "       [ 2.87900067e+01],\n",
       "       [ 4.91941210e+01],\n",
       "       [ 4.03068699e+01],\n",
       "       [ 1.33161806e+01],\n",
       "       [ 2.76610119e+01],\n",
       "       [ 1.71580275e+01],\n",
       "       [ 4.96872626e+01],\n",
       "       [ 2.30302723e+01],\n",
       "       [ 3.92409365e+01],\n",
       "       [ 1.31967539e+01],\n",
       "       [ 5.94889370e+00],\n",
       "       [ 2.58216090e+01],\n",
       "       [ 8.25863421e+00],\n",
       "       [ 1.91463205e+01],\n",
       "       [ 4.31824865e+01],\n",
       "       [ 6.71784358e+00],\n",
       "       [ 3.38696152e+01],\n",
       "       [ 1.53699378e+01],\n",
       "       [ 1.69390450e+01],\n",
       "       [ 3.78853368e+01],\n",
       "       [ 1.92024845e+01],\n",
       "       [ 9.05950472e+00],\n",
       "       [ 1.02833996e+01],\n",
       "       [ 4.86724471e+01],\n",
       "       [ 3.05877162e+01],\n",
       "       [ 2.47740990e+00],\n",
       "       [ 1.28116039e+01],\n",
       "       [ 7.03247898e+01],\n",
       "       [ 1.48409677e+01],\n",
       "       [ 6.88655876e+01],\n",
       "       [ 4.27419924e+01],\n",
       "       [ 2.40002615e+01],\n",
       "       [ 2.34207249e+01],\n",
       "       [ 6.16721244e+01],\n",
       "       [ 2.54942028e+01],\n",
       "       [ 1.90048098e+01],\n",
       "       [ 3.48866829e+01],\n",
       "       [ 9.40231340e+00],\n",
       "       [ 2.95200113e+01],\n",
       "       [ 1.45739659e+01],\n",
       "       [ 9.12556314e+00],\n",
       "       [ 5.28125840e+01],\n",
       "       [ 4.50395380e+01],\n",
       "       [ 1.74524347e+01],\n",
       "       [ 3.84939353e+01],\n",
       "       [ 2.70389191e+01],\n",
       "       [ 6.55817097e+01],\n",
       "       [ 7.03730638e+00],\n",
       "       [ 5.27144771e+01],\n",
       "       [ 3.82064593e+01],\n",
       "       [ 2.11698011e+01],\n",
       "       [ 3.02475569e+01],\n",
       "       [ 2.71442299e+00],\n",
       "       [ 1.99329326e+01],\n",
       "       [-3.41333234e+00],\n",
       "       [ 3.24459994e+01],\n",
       "       [ 1.05829730e+01],\n",
       "       [ 2.17752257e+01],\n",
       "       [ 6.24652921e+01],\n",
       "       [ 2.41329437e+01],\n",
       "       [ 2.62012396e+01],\n",
       "       [ 6.37444772e+01],\n",
       "       [ 2.83429777e+00],\n",
       "       [ 1.43792470e+01],\n",
       "       [ 9.36985073e+00],\n",
       "       [ 9.88116661e+00],\n",
       "       [ 3.49494536e+00],\n",
       "       [ 1.22608049e+02],\n",
       "       [ 2.10835130e+01],\n",
       "       [ 1.75322206e+01],\n",
       "       [ 2.01830983e+01],\n",
       "       [ 3.63931322e+01],\n",
       "       [ 3.49351512e+01],\n",
       "       [ 1.88303127e+01],\n",
       "       [ 3.83445555e+01],\n",
       "       [ 7.79166341e+01],\n",
       "       [ 1.79532355e+00],\n",
       "       [ 1.34458279e+01],\n",
       "       [ 3.61311556e+01],\n",
       "       [ 1.51504035e+01],\n",
       "       [ 1.29418483e+01],\n",
       "       [ 1.13125241e+02],\n",
       "       [ 1.52246047e+01],\n",
       "       [ 1.48240260e+01],\n",
       "       [ 5.92673537e+01],\n",
       "       [ 1.05836953e+01],\n",
       "       [ 2.09930626e+01],\n",
       "       [ 9.78936588e+00],\n",
       "       [ 4.77118001e+00],\n",
       "       [ 4.79278069e+01],\n",
       "       [ 1.23994384e+01],\n",
       "       [ 4.81464766e+01],\n",
       "       [ 4.04663804e+01],\n",
       "       [ 1.69405903e+01],\n",
       "       [ 4.12665445e+01],\n",
       "       [ 6.90278920e+01],\n",
       "       [ 4.03462492e+01],\n",
       "       [ 1.43137440e+01],\n",
       "       [ 1.57707266e+01]])"
      ]
     },
     "execution_count": 9,
     "metadata": {},
     "output_type": "execute_result"
    }
   ],
   "source": [
    "# w = np.load('./../model/weight.npy')\n",
    "ans_y = np.dot(test_x, w)\n",
    "ans_y"
   ]
  },
  {
   "cell_type": "markdown",
   "metadata": {
    "colab_type": "text",
    "id": "HKMKW7RzHwuO"
   },
   "source": [
    "# **Save Prediction to CSV File**\n"
   ]
  },
  {
   "cell_type": "code",
   "execution_count": 10,
   "metadata": {
    "colab": {
     "base_uri": "https://localhost:8080/",
     "height": 1000
    },
    "colab_type": "code",
    "id": "Dwfpqqy0H8en",
    "outputId": "38e75a01-b540-4d64-bbbd-3139456128e6"
   },
   "outputs": [],
   "source": [
    "import csv\n",
    "# with open('./../results/submit.csv', mode='w', newline='') as submit_file:\n",
    "#     csv_writer = csv.writer(submit_file)\n",
    "#     header = ['id', 'value']\n",
    "#     print(header)\n",
    "#     csv_writer.writerow(header)\n",
    "#     for i in range(240):\n",
    "#         row = ['id_' + str(i), ans_y[i][0]]\n",
    "#         csv_writer.writerow(row)\n",
    "#         print(row)"
   ]
  },
  {
   "cell_type": "markdown",
   "metadata": {},
   "source": [
    "---\n",
    "# Homework1 report "
   ]
  },
  {
   "cell_type": "markdown",
   "metadata": {},
   "source": [
    "## Problem1\n",
    "\n",
    "### 使用四種不同的 learning rate 進行 training (其他參數需一致)，作圖並討論其收斂過程（橫軸為 iteration 次數，縱軸為 loss 的大小，四種 learning rate 的收斂線請以不同顏色呈現在一張圖裡做比較）。"
   ]
  },
  {
   "cell_type": "code",
   "execution_count": 11,
   "metadata": {},
   "outputs": [],
   "source": [
    "import matplotlib.pyplot as plt"
   ]
  },
  {
   "cell_type": "code",
   "execution_count": 12,
   "metadata": {},
   "outputs": [],
   "source": [
    "x = np.empty([12 * 471, 18 * 9], dtype = float)\n",
    "y = np.empty([12 * 471, 1], dtype = float)\n",
    "for month in range(12):\n",
    "    for day in range(20):\n",
    "        for hour in range(24):\n",
    "            if day == 19 and hour > 14:\n",
    "                continue\n",
    "            x[month * 471 + day * 24 + hour, :] = month_data[month][:,day * 24 + hour : day * 24 + hour + 9].reshape(1, -1) #vector dim:18*9 (9 9 9 9 9 9 9 9 9 9 9 9 9 9 9 9 9 9)\n",
    "            y[month * 471 + day * 24 + hour, 0] = month_data[month][9, day * 24 + hour + 9] #value\n",
    "# Normalize\n",
    "mean_x = np.mean(x, axis = 0) #18 * 9 \n",
    "std_x = np.std(x, axis = 0) #18 * 9 \n",
    "for i in range(len(x)): #12 * 471\n",
    "    for j in range(len(x[0])): #18 * 9 \n",
    "        if std_x[j] != 0:\n",
    "            x[i][j] = (x[i][j] - mean_x[j]) / std_x[j]"
   ]
  },
  {
   "cell_type": "code",
   "execution_count": 21,
   "metadata": {
    "scrolled": true
   },
   "outputs": [
    {
     "name": "stdout",
     "output_type": "stream",
     "text": [
      "Use learning rate: 0.1\n",
      "0:24.36221492236629\n",
      "100:18.90834718964592\n",
      "200:18.053295995106758\n",
      "300:17.45994247298926\n",
      "400:16.986116293318467\n",
      "500:16.58315001985104\n",
      "600:16.22806970576931\n",
      "700:15.90810665089768\n",
      "800:15.615360265000144\n",
      "900:15.344546182518075\n",
      "Use learning rate: 1\n",
      "0:24.36221492236629\n",
      "100:8.594232164442651\n",
      "200:6.42786842526481\n",
      "300:5.768784999762439\n",
      "400:5.539097149109682\n",
      "500:5.435245092394387\n",
      "600:5.373948969208427\n",
      "700:5.3310670370490545\n",
      "800:5.298374502137377\n",
      "900:5.272337327984913\n",
      "Use learning rate: 10\n",
      "0:24.36221492236629\n",
      "100:6.561283208061513\n",
      "200:5.887833132356353\n",
      "300:5.656016404097853\n",
      "400:5.531232340650519\n",
      "500:5.4505480582001535\n",
      "600:5.393304198965543\n",
      "700:5.350350328775729\n",
      "800:5.31685726009195\n",
      "900:5.289986029498695\n",
      "Use learning rate: 100\n",
      "0:24.36221492236629\n",
      "100:20.323593225645208\n",
      "200:9.326264559340517\n",
      "300:6.829236149377325\n",
      "400:6.126311241297732\n",
      "500:5.829997137753873\n",
      "600:5.657451772718694\n",
      "700:5.540029134523291\n",
      "800:5.454822077702425\n",
      "900:5.391104701661771\n"
     ]
    }
   ],
   "source": [
    "learning_rate_list = [10**power for power in range(-1,3)]\n",
    "loss_history = []\n",
    "validation_loss_history = []\n",
    "dim = 18 * 9 + 1\n",
    "iter_time = 1000\n",
    "eps = 0.0000000001\n",
    "for lr in learning_rate_list:\n",
    "    print(\"Use learning rate:\", lr)\n",
    "    history = []\n",
    "    validation_history = []\n",
    "    w = np.zeros([dim, 1])\n",
    "    temp_x = np.concatenate((np.ones([x_train_set.shape[0], 1]), x_train_set), axis = 1).astype(float)\n",
    "    temp_x_validation = np.concatenate((np.ones([x_validation.shape[0], 1]), x_validation), axis = 1).astype(float)\n",
    "    learning_rate = lr\n",
    "    adagrad = np.zeros([dim, 1])\n",
    "    for t in range(iter_time):\n",
    "        loss = np.sqrt(np.sum(np.power(np.dot(temp_x, w) - y_train_set, 2))/471/12)#rmse\n",
    "        history.append(loss)\n",
    "        validation_loss = np.sqrt(np.sum(np.power(np.dot(temp_x_validation, w) - y_validation, 2))/471/12)#rmse\n",
    "        validation_history.append(validation_loss)\n",
    "        if(t%100==0):\n",
    "            print(str(t) + \":\" + str(loss))\n",
    "        gradient = 2 * np.dot(temp_x.transpose(), np.dot(temp_x, w) - y_train_set) #dim*1\n",
    "        adagrad += gradient ** 2\n",
    "        w = w - learning_rate * gradient / np.sqrt(adagrad + eps)\n",
    "    loss_history.append(history)\n",
    "    validation_loss_history.append(validation_history)\n",
    "loss_history = np.array(loss_history)\n",
    "validation_loss_history = np.array(validation_loss_history)"
   ]
  },
  {
   "cell_type": "code",
   "execution_count": 24,
   "metadata": {},
   "outputs": [
    {
     "data": {
      "image/png": "[encoded data removed]",
      "text/plain": [
       "<Figure size 432x288 with 1 Axes>"
      ]
     },
     "metadata": {
      "needs_background": "light"
     },
     "output_type": "display_data"
    }
   ],
   "source": [
    "for i in range(loss_history.shape[0]):\n",
    "    plt.plot(\n",
    "        np.arange(loss_history.shape[1])+1,\n",
    "        np.log10(loss_history[i,:]),\n",
    "        label = 'learning rate: ' + str(learning_rate_list[i])\n",
    "    )\n",
    "plt.legend()\n",
    "plt.title('Training loss $(log_{10})$')\n",
    "plt.xlabel('iteration')\n",
    "plt.ylabel('log loss')\n",
    "plt.savefig('./../report/training_loss.png')"
   ]
  },
  {
   "cell_type": "code",
   "execution_count": 25,
   "metadata": {},
   "outputs": [
    {
     "data": {
      "image/png": "[encoded data removed]",
      "text/plain": [
       "<Figure size 432x288 with 1 Axes>"
      ]
     },
     "metadata": {
      "needs_background": "light"
     },
     "output_type": "display_data"
    }
   ],
   "source": [
    "for i in range(validation_loss_history.shape[0]):\n",
    "    plt.plot(\n",
    "        np.arange(validation_loss_history.shape[1])+1,\n",
    "        np.log10(validation_loss_history[i,:]),\n",
    "        label = 'learning rate: ' + str(learning_rate_list[i])\n",
    "    )\n",
    "plt.legend()\n",
    "plt.title('Validation loss $(log_{10})$')\n",
    "plt.xlabel('iteration')\n",
    "plt.ylabel('log loss')\n",
    "plt.savefig('./../report/validation_loss.png')"
   ]
  },
  {
   "cell_type": "markdown",
   "metadata": {},
   "source": [
    "## 9 hrs"
   ]
  },
  {
   "cell_type": "code",
   "execution_count": 47,
   "metadata": {
    "scrolled": true
   },
   "outputs": [
    {
     "name": "stdout",
     "output_type": "stream",
     "text": [
      "0:24.36221492236629\n",
      "100:6.561283208061513\n",
      "200:5.887833132356353\n",
      "300:5.656016404097853\n",
      "400:5.531232340650519\n",
      "500:5.4505480582001535\n",
      "600:5.393304198965543\n",
      "700:5.350350328775729\n",
      "800:5.31685726009195\n",
      "900:5.289986029498695\n",
      "1000:5.2679462025148736\n",
      "1100:5.249550755112938\n",
      "1200:5.233981460522808\n",
      "1300:5.220655648110694\n",
      "1400:5.2091464357172494\n",
      "1500:5.1991330518184995\n",
      "1600:5.190368907825238\n",
      "1700:5.182660526904414\n",
      "1800:5.175853309093097\n",
      "1900:5.169821707812071\n",
      "2000:5.164462314419491\n",
      "2100:5.159688896959885\n",
      "2200:5.155428775668116\n",
      "2300:5.151620128361646\n",
      "2400:5.148209953222162\n",
      "2500:5.145152503673816\n",
      "2600:5.142408067533805\n",
      "2700:5.13994200101791\n",
      "2800:5.1377239541921345\n",
      "2900:5.135727242297439\n",
      "3000:5.133928329756446\n",
      "3100:5.132306402370309\n",
      "3200:5.130843009398912\n",
      "3300:5.129521761666827\n",
      "3400:5.128328075075714\n",
      "3500:5.127248951288017\n",
      "3600:5.126272789122503\n",
      "3700:5.125389221539428\n",
      "3800:5.124588974111472\n",
      "3900:5.123863741660422\n",
      "4000:5.123206080349178\n",
      "4100:5.12260931299756\n",
      "4200:5.122067445770268\n",
      "4300:5.1215750946893825\n",
      "4400:5.121127420669311\n",
      "4500:5.120720071972028\n",
      "4600:5.120349133144376\n",
      "4700:5.120011079634827\n",
      "4800:5.119702737399798\n",
      "4900:5.119421246904112\n"
     ]
    }
   ],
   "source": [
    "dim = 18 * 9 + 1\n",
    "iter_time = 5000\n",
    "learning_rate = 10\n",
    "eps = 0.0000000001\n",
    "\n",
    "history = []\n",
    "validation_history = []\n",
    "w = np.zeros([dim, 1])\n",
    "\n",
    "temp_x = np.concatenate((np.ones([x_train_set.shape[0], 1]), x_train_set), axis = 1).astype(float)\n",
    "temp_x_validation = np.concatenate((np.ones([x_validation.shape[0], 1]), x_validation), axis = 1).astype(float)\n",
    "adagrad = np.zeros([dim, 1])\n",
    "\n",
    "for t in range(iter_time):\n",
    "    loss = np.sqrt(np.sum(np.power(np.dot(temp_x, w) - y_train_set, 2))/471/12)#rmse\n",
    "    history.append(loss)\n",
    "    validation_loss = np.sqrt(np.sum(np.power(np.dot(temp_x_validation, w) - y_validation, 2))/471/12)#rmse\n",
    "    validation_history.append(validation_loss)\n",
    "    if(t%100==0):\n",
    "        print(str(t) + \":\" + str(loss))\n",
    "    gradient = 2 * np.dot(temp_x.transpose(), np.dot(temp_x, w) - y_train_set) #dim*1\n",
    "    adagrad += gradient ** 2\n",
    "    w = w - learning_rate * gradient / np.sqrt(adagrad + eps)"
   ]
  },
  {
   "cell_type": "markdown",
   "metadata": {},
   "source": [
    "## 5 hr"
   ]
  },
  {
   "cell_type": "code",
   "execution_count": 48,
   "metadata": {},
   "outputs": [
    {
     "data": {
      "text/plain": [
       "(162,)"
      ]
     },
     "execution_count": 48,
     "metadata": {},
     "output_type": "execute_result"
    }
   ],
   "source": [
    "temp = np.full([9,], False)\n",
    "temp[-5:] = True\n",
    "pick_features = np.copy(temp)\n",
    "for i in range(17):\n",
    "    pick_features = np.append(pick_features, temp)\n",
    "pick_features.shape"
   ]
  },
  {
   "cell_type": "code",
   "execution_count": 49,
   "metadata": {
    "scrolled": true
   },
   "outputs": [
    {
     "name": "stdout",
     "output_type": "stream",
     "text": [
      "0:24.36221492236629\n",
      "100:5.978724401676715\n",
      "200:5.625032173888488\n",
      "300:5.479493561223028\n",
      "400:5.403266243287307\n",
      "500:5.357811075797966\n",
      "600:5.328544155473333\n",
      "700:5.308812544420462\n",
      "800:5.295119961515279\n",
      "900:5.285432096563821\n",
      "1000:5.278480224368032\n",
      "1100:5.273435720885109\n",
      "1200:5.269740444950305\n",
      "1300:5.267010368694381\n",
      "1400:5.264977167255098\n",
      "1500:5.26345113400393\n",
      "1600:5.26229685265597\n",
      "1700:5.2614168637891865\n",
      "1800:5.260740511887482\n",
      "1900:5.260216231063947\n",
      "2000:5.259806153713256\n",
      "2100:5.259482309451646\n",
      "2200:5.259223924445595\n",
      "2300:5.259015489008302\n",
      "2400:5.258845365834899\n",
      "2500:5.258704781434092\n",
      "2600:5.258587090985712\n",
      "2700:5.258487239533229\n",
      "2800:5.258401365002973\n",
      "2900:5.25832650426137\n",
      "3000:5.2582603744381675\n",
      "3100:5.258201209514294\n",
      "3200:5.258147637688264\n",
      "3300:5.258098588972802\n",
      "3400:5.258053225301186\n",
      "3500:5.258010887464839\n",
      "3600:5.257971054686128\n",
      "3700:5.257933313712151\n",
      "3800:5.257897335108486\n",
      "3900:5.25786285501626\n",
      "4000:5.2578296610683335\n",
      "4100:5.257797581481633\n",
      "4200:5.257766476582382\n",
      "4300:5.257736232200428\n",
      "4400:5.257706754503669\n",
      "4500:5.257677965945275\n",
      "4600:5.25764980207321\n",
      "4700:5.2576222090099165\n",
      "4800:5.257595141454291\n",
      "4900:5.257568561091972\n"
     ]
    }
   ],
   "source": [
    "dim = 18 * 5 + 1\n",
    "iter_time = 5000\n",
    "learning_rate = 10\n",
    "eps = 0.0000000001\n",
    "\n",
    "history_5hr = []\n",
    "validation_history_5hr = []\n",
    "w_5hr = np.zeros([dim, 1])\n",
    "\n",
    "temp_x = np.concatenate((np.ones([x_train_set.shape[0], 1]), x_train_set.T[pick_features].T), axis = 1).astype(float)\n",
    "temp_x_validation = np.concatenate((np.ones([x_validation.shape[0], 1]), x_validation.T[pick_features].T), axis = 1).astype(float)\n",
    "adagrad = np.zeros([dim, 1])\n",
    "\n",
    "for t in range(iter_time):\n",
    "    loss = np.sqrt(np.sum(np.power(np.dot(temp_x, w_5hr) - y_train_set, 2))/471/12)#rmse\n",
    "    history_5hr.append(loss)\n",
    "    validation_loss = np.sqrt(np.sum(np.power(np.dot(temp_x_validation, w_5hr) - y_validation, 2))/471/12)#rmse\n",
    "    validation_history_5hr.append(validation_loss)\n",
    "    if(t%100==0):\n",
    "        print(str(t) + \":\" + str(loss))\n",
    "    gradient = 2 * np.dot(temp_x.transpose(), np.dot(temp_x, w_5hr) - y_train_set) #dim*1\n",
    "    adagrad += gradient ** 2\n",
    "    w_5hr = w_5hr - learning_rate * gradient / np.sqrt(adagrad + eps)"
   ]
  },
  {
   "cell_type": "code",
   "execution_count": 61,
   "metadata": {},
   "outputs": [
    {
     "data": {
      "image/png": "[encoded data removed]",
      "text/plain": [
       "<Figure size 432x288 with 1 Axes>"
      ]
     },
     "metadata": {
      "needs_background": "light"
     },
     "output_type": "display_data"
    }
   ],
   "source": [
    "idx = 5000\n",
    "step = 10\n",
    "\n",
    "plt.plot(\n",
    "    np.arange(len(validation_history))[:idx:step]+1,\n",
    "    np.log10(validation_history)[:idx:step],\n",
    "    label = 'use 9 hours features'\n",
    ")\n",
    "plt.plot(\n",
    "    np.arange(len(validation_history_5hr))[:idx:step]+1,\n",
    "    np.log10(validation_history_5hr[:idx:step]),\n",
    "    label = 'use 5 hours features'\n",
    ")\n",
    "plt.legend()\n",
    "plt.title('Validation loss $(log_{10})$')\n",
    "plt.xlabel('iteration')\n",
    "plt.ylabel('log loss')\n",
    "plt.savefig('./../report/loss_9hr_vs_5hr.png')"
   ]
  },
  {
   "cell_type": "code",
   "execution_count": 62,
   "metadata": {},
   "outputs": [
    {
     "data": {
      "text/plain": [
       "(2.5384974754601943, 2.534209797552292, True)"
      ]
     },
     "execution_count": 62,
     "metadata": {},
     "output_type": "execute_result"
    }
   ],
   "source": [
    "min(validation_history_5hr), min(validation_history), min(validation_history_5hr) > min(validation_history)"
   ]
  },
  {
   "cell_type": "markdown",
   "metadata": {},
   "source": [
    "## Train with using only PM2.5 and all features (9 hours)"
   ]
  },
  {
   "cell_type": "code",
   "execution_count": 64,
   "metadata": {},
   "outputs": [
    {
     "data": {
      "text/plain": [
       "(162,)"
      ]
     },
     "execution_count": 64,
     "metadata": {},
     "output_type": "execute_result"
    }
   ],
   "source": [
    "pick_features = np.full([18 * 9,], False)\n",
    "pick_features[9*9:10*9] = True\n",
    "pick_features.shape"
   ]
  },
  {
   "cell_type": "code",
   "execution_count": 66,
   "metadata": {
    "scrolled": true
   },
   "outputs": [
    {
     "name": "stdout",
     "output_type": "stream",
     "text": [
      "0:24.36221492236629\n",
      "100:5.752118183125287\n",
      "200:5.613806928209706\n",
      "300:5.568934035410149\n",
      "400:5.551603394664598\n",
      "500:5.544621880774884\n",
      "600:5.541764753651903\n",
      "700:5.540585850683125\n",
      "800:5.540096434059089\n",
      "900:5.539892059204015\n",
      "1000:5.539806174891635\n",
      "1100:5.539769830770611\n",
      "1200:5.539754331304894\n",
      "1300:5.539747665016923\n",
      "1400:5.539744771491962\n",
      "1500:5.539743503301682\n",
      "1600:5.539742941836038\n",
      "1700:5.539742690689407\n",
      "1800:5.539742577190875\n",
      "1900:5.539742525380686\n",
      "2000:5.539742501501305\n",
      "2100:5.539742490395092\n",
      "2200:5.539742485186209\n",
      "2300:5.539742482724559\n",
      "2400:5.5397424815532705\n",
      "2500:5.539742480992596\n",
      "2600:5.5397424807228\n",
      "2700:5.539742480592387\n",
      "2800:5.539742480529103\n",
      "2900:5.539742480498293\n",
      "3000:5.539742480483253\n",
      "3100:5.539742480475892\n",
      "3200:5.539742480472284\n",
      "3300:5.539742480470512\n",
      "3400:5.5397424804696405\n",
      "3500:5.5397424804692115\n",
      "3600:5.539742480469\n",
      "3700:5.539742480468896\n",
      "3800:5.539742480468845\n",
      "3900:5.539742480468819\n",
      "4000:5.5397424804688065\n",
      "4100:5.539742480468801\n",
      "4200:5.539742480468798\n",
      "4300:5.539742480468796\n",
      "4400:5.539742480468795\n",
      "4500:5.539742480468795\n",
      "4600:5.539742480468794\n",
      "4700:5.539742480468794\n",
      "4800:5.539742480468795\n",
      "4900:5.539742480468795\n"
     ]
    }
   ],
   "source": [
    "dim = 9 + 1\n",
    "iter_time = 5000\n",
    "learning_rate = 10\n",
    "eps = 0.0000000001\n",
    "\n",
    "history_PM25 = []\n",
    "validation_history_PM25 = []\n",
    "w_PM25 = np.zeros([dim, 1])\n",
    "\n",
    "temp_x = np.concatenate((np.ones([x_train_set.shape[0], 1]), x_train_set.T[pick_features].T), axis = 1).astype(float)\n",
    "temp_x_validation = np.concatenate((np.ones([x_validation.shape[0], 1]), x_validation.T[pick_features].T), axis = 1).astype(float)\n",
    "adagrad = np.zeros([dim, 1])\n",
    "\n",
    "for t in range(iter_time):\n",
    "    loss = np.sqrt(np.sum(np.power(np.dot(temp_x, w_PM25) - y_train_set, 2))/471/12)#rmse\n",
    "    history_PM25.append(loss)\n",
    "    validation_loss = np.sqrt(np.sum(np.power(np.dot(temp_x_validation, w_PM25) - y_validation, 2))/471/12)#rmse\n",
    "    validation_history_PM25.append(validation_loss)\n",
    "    if(t%100==0):\n",
    "        print(str(t) + \":\" + str(loss))\n",
    "    gradient = 2 * np.dot(temp_x.transpose(), np.dot(temp_x, w_PM25) - y_train_set) #dim*1\n",
    "    adagrad += gradient ** 2\n",
    "    w_PM25 = w_PM25 - learning_rate * gradient / np.sqrt(adagrad + eps)"
   ]
  },
  {
   "cell_type": "code",
   "execution_count": 68,
   "metadata": {},
   "outputs": [
    {
     "data": {
      "image/png": "[encoded data removed]",
      "text/plain": [
       "<Figure size 432x288 with 1 Axes>"
      ]
     },
     "metadata": {
      "needs_background": "light"
     },
     "output_type": "display_data"
    }
   ],
   "source": [
    "idx = 5000\n",
    "step = 10\n",
    "\n",
    "plt.plot(\n",
    "    np.arange(len(validation_history))[:idx:step]+1,\n",
    "    np.log10(validation_history)[:idx:step],\n",
    "    label = 'all features'\n",
    ")\n",
    "plt.plot(\n",
    "    np.arange(len(validation_history_PM25))[:idx:step]+1,\n",
    "    np.log10(validation_history_PM25[:idx:step]),\n",
    "    label = 'only PM 2.5'\n",
    ")\n",
    "plt.legend()\n",
    "plt.title('Validation loss $(log_{10})$')\n",
    "plt.xlabel('iteration')\n",
    "plt.ylabel('log loss')\n",
    "plt.savefig('./../report/loss_pm25_vs_all.png')"
   ]
  },
  {
   "cell_type": "code",
   "execution_count": 69,
   "metadata": {},
   "outputs": [
    {
     "data": {
      "text/plain": [
       "(2.6218562828710685, 2.534209797552292, True)"
      ]
     },
     "execution_count": 69,
     "metadata": {},
     "output_type": "execute_result"
    }
   ],
   "source": [
    "min(validation_history_PM25), min(validation_history), min(validation_history_PM25) > min(validation_history)"
   ]
  },
  {
   "cell_type": "markdown",
   "metadata": {},
   "source": [
    "### Predict"
   ]
  },
  {
   "cell_type": "code",
   "execution_count": null,
   "metadata": {},
   "outputs": [],
   "source": [
    "# w = np.load('./../model/weight2.npy')\n",
    "# ans_y = np.dot(test_x, w)\n",
    "# ans_y"
   ]
  },
  {
   "cell_type": "markdown",
   "metadata": {},
   "source": [
    "### Save"
   ]
  },
  {
   "cell_type": "code",
   "execution_count": null,
   "metadata": {},
   "outputs": [],
   "source": [
    "# import csv\n",
    "# with open('./../results/submit2.csv', mode='w', newline='') as submit_file:\n",
    "#     csv_writer = csv.writer(submit_file)\n",
    "#     header = ['id', 'value']\n",
    "#     print(header)\n",
    "#     csv_writer.writerow(header)\n",
    "#     for i in range(240):\n",
    "#         row = ['id_' + str(i), ans_y[i][0]]\n",
    "#         csv_writer.writerow(row)\n",
    "#         print(row)"
   ]
  },
  {
   "cell_type": "code",
   "execution_count": null,
   "metadata": {},
   "outputs": [],
   "source": []
  }
 ],
 "metadata": {
  "colab": {
   "collapsed_sections": [],
   "name": "hw1_regression.ipynb",
   "provenance": []
  },
  "kernelspec": {
   "display_name": "Python 3",
   "language": "python",
   "name": "python3"
  },
  "language_info": {
   "codemirror_mode": {
    "name": "ipython",
    "version": 3
   },
   "file_extension": ".py",
   "mimetype": "text/x-python",
   "name": "python",
   "nbconvert_exporter": "python",
   "pygments_lexer": "ipython3",
   "version": "3.7.3"
  }
 },
 "nbformat": 4,
 "nbformat_minor": 1
}
